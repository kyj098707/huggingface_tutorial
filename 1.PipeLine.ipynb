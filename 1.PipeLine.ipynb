{
 "cells": [
  {
   "cell_type": "code",
   "execution_count": 2,
   "metadata": {},
   "outputs": [],
   "source": [
    "import warnings\n",
    "warnings.filterwarnings('ignore')"
   ]
  },
  {
   "attachments": {},
   "cell_type": "markdown",
   "metadata": {},
   "source": [
    "### 1. Pipeline Library\n",
    "- 1.1 pipeline(\"task 종류\", 원하는 task 모델)\n",
    "\n",
    "- 1.2 task 모델 파라미터를 지정해주지 않으면 default task 모델이 적용"
   ]
  },
  {
   "cell_type": "code",
   "execution_count": 3,
   "metadata": {},
   "outputs": [],
   "source": [
    "from transformers import pipeline "
   ]
  },
  {
   "attachments": {},
   "cell_type": "markdown",
   "metadata": {},
   "source": [
    "#### 1.1 Sentiment\n",
    "- Default Model : distilbert-base-uncased-finetuned-sst-2-english"
   ]
  },
  {
   "cell_type": "code",
   "execution_count": 4,
   "metadata": {},
   "outputs": [
    {
     "name": "stderr",
     "output_type": "stream",
     "text": [
      "No model was supplied, defaulted to distilbert-base-uncased-finetuned-sst-2-english and revision af0f99b (https://huggingface.co/distilbert-base-uncased-finetuned-sst-2-english).\n",
      "Using a pipeline without specifying a model name and revision in production is not recommended.\n"
     ]
    },
    {
     "name": "stdout",
     "output_type": "stream",
     "text": [
      "[{'label': 'POSITIVE', 'score': 0.9998550415039062}]\n",
      "[{'label': 'POSITIVE', 'score': 0.9997770190238953}, {'label': 'NEGATIVE', 'score': 0.9888671040534973}]\n"
     ]
    }
   ],
   "source": [
    "clf_sentiment = pipeline(\"sentiment-analysis\")\n",
    "print(clf_sentiment(\"this movie is so funny..\"))\n",
    "print(clf_sentiment([\"I'm glad to meet you\", \"I don't think so\"]))"
   ]
  },
  {
   "cell_type": "code",
   "execution_count": 18,
   "metadata": {},
   "outputs": [
    {
     "name": "stdout",
     "output_type": "stream",
     "text": [
      "[{'label': 'negative', 'score': 0.6988539099693298}]\n",
      "[{'label': 'negative', 'score': 0.9147351384162903}, {'label': 'neutral', 'score': 0.9993079900741577}]\n"
     ]
    }
   ],
   "source": [
    "kor_clf_sentiment = pipeline(\"sentiment-analysis\", \"snunlp/KR-FinBert-SC\")\n",
    "print(kor_clf_sentiment(\"아니 나 너무 화가나\"))\n",
    "print(kor_clf_sentiment([\"롯데 자이언츠 오늘도 패배\",\"롯데 자이언츠 2023년 11연승 성공, 이대로 우승 예상\"]))"
   ]
  },
  {
   "attachments": {},
   "cell_type": "markdown",
   "metadata": {},
   "source": [
    "#### 1.2 Zero-shot Classification\n",
    "- Defualt Model : facebook/bart-large-mnli"
   ]
  },
  {
   "cell_type": "code",
   "execution_count": 4,
   "metadata": {},
   "outputs": [
    {
     "name": "stderr",
     "output_type": "stream",
     "text": [
      "No model was supplied, defaulted to facebook/bart-large-mnli and revision c626438 (https://huggingface.co/facebook/bart-large-mnli).\n",
      "Using a pipeline without specifying a model name and revision in production is not recommended.\n"
     ]
    },
    {
     "data": {
      "text/plain": [
       "{'sequence': 'You are a very nice person',\n",
       " 'labels': ['compliment', 'curse'],\n",
       " 'scores': [0.998981773853302, 0.001018223469145596]}"
      ]
     },
     "execution_count": 4,
     "metadata": {},
     "output_type": "execute_result"
    }
   ],
   "source": [
    "clf_zeroshot = pipeline(\"zero-shot-classification\")\n",
    "clf_zeroshot( \"You are a very nice person\",\n",
    "                candidate_labels = [\"compliment\", \"curse\"])"
   ]
  },
  {
   "cell_type": "code",
   "execution_count": 20,
   "metadata": {},
   "outputs": [
    {
     "data": {
      "text/plain": [
       "{'sequence': '넌 정말 착한 사람이야',\n",
       " 'labels': ['칭찬', '욕설'],\n",
       " 'scores': [0.9879165887832642, 0.012083346955478191]}"
      ]
     },
     "execution_count": 20,
     "metadata": {},
     "output_type": "execute_result"
    }
   ],
   "source": [
    "kor_clf_zeroshot = pipeline(\"zero-shot-classification\",\"MoritzLaurer/mDeBERTa-v3-base-xnli-multilingual-nli-2mil7\")\n",
    "kor_clf_zeroshot( \"넌 정말 착한 사람이야\",\n",
    "                candidate_labels = [\"칭찬\", \"욕설\"])"
   ]
  },
  {
   "attachments": {},
   "cell_type": "markdown",
   "metadata": {},
   "source": [
    "#### 3. Text Generation\n",
    "- Text Generation default model : GPT2\n",
    "\n",
    "- parameters : max_length, num_return_sequence "
   ]
  },
  {
   "cell_type": "code",
   "execution_count": 21,
   "metadata": {},
   "outputs": [
    {
     "name": "stderr",
     "output_type": "stream",
     "text": [
      "No model was supplied, defaulted to gpt2 and revision 6c0e608 (https://huggingface.co/gpt2).\n",
      "Using a pipeline without specifying a model name and revision in production is not recommended.\n",
      "Setting `pad_token_id` to `eos_token_id`:50256 for open-end generation.\n"
     ]
    },
    {
     "name": "stdout",
     "output_type": "stream",
     "text": [
      "[{'generated_text': 'I\\'m a Korean. and love BTS. When they release, it\\'s really awesome.\"\\n\\nHowever, one thing about BTS\\'s'}, {'generated_text': \"I'm a Korean. and love BTS, BTS is my favorite BTS since it's on a huge wave now, and you can't\"}]\n"
     ]
    }
   ],
   "source": [
    "generator = pipeline(\"text-generation\")\n",
    "print(generator(\"I'm a Korean. and love BTS\",\n",
    "                max_length=30,\n",
    "                num_return_sequences=2))"
   ]
  },
  {
   "cell_type": "code",
   "execution_count": 23,
   "metadata": {},
   "outputs": [
    {
     "name": "stderr",
     "output_type": "stream",
     "text": [
      "Special tokens have been added in the vocabulary, make sure the associated word embeddings are fine-tuned or trained.\n"
     ]
    },
    {
     "name": "stdout",
     "output_type": "stream",
     "text": [
      "[{'generated_text': '롯데 자이언츠는 2022년 ssg를 꺾고 KBO리그 우승을 노린다.\\n2월 25일 KIA 타이거즈전을 시작으로'}, {'generated_text': '롯데 자이언츠는 2022년 ssg를 꺾고 리그 2위를 달리며 선두를 달렸다.\\n선두이던 2위 SK'}]\n"
     ]
    }
   ],
   "source": [
    "kor_generator = pipeline(\"text-generation\",\"skt/kogpt2-base-v2\")\n",
    "print(kor_generator(\"롯데 자이언츠는 2022년 ssg를 꺾고\",\n",
    "                max_length=30,\n",
    "                num_return_sequences=2))\n"
   ]
  },
  {
   "attachments": {},
   "cell_type": "markdown",
   "metadata": {},
   "source": [
    "#### 4. Mask Filiing\n",
    "- Mask filling default model : distilroberta-base\n",
    "\n",
    "- mask token은 model마다 틀림, roberta -> <mask>, bert -> [MASK]\n",
    "\n",
    "- default top_k : 5"
   ]
  },
  {
   "cell_type": "code",
   "execution_count": 6,
   "metadata": {},
   "outputs": [
    {
     "name": "stderr",
     "output_type": "stream",
     "text": [
      "No model was supplied, defaulted to distilroberta-base and revision ec58a5b (https://huggingface.co/distilroberta-base).\n",
      "Using a pipeline without specifying a model name and revision in production is not recommended.\n"
     ]
    },
    {
     "data": {
      "text/plain": [
       "[{'score': 0.4297890067100525,\n",
       "  'token': 766,\n",
       "  'token_str': ' name',\n",
       "  'sequence': \"I'am  a korean famous boy group and have song called 'You Only Live'. My name is a BTS\"},\n",
       " {'score': 0.05251489207148552,\n",
       "  'token': 23390,\n",
       "  'token_str': ' idol',\n",
       "  'sequence': \"I'am  a korean famous boy group and have song called 'You Only Live'. My idol is a BTS\"}]"
      ]
     },
     "execution_count": 6,
     "metadata": {},
     "output_type": "execute_result"
    }
   ],
   "source": [
    "unmasker = pipeline(\"fill-mask\")\n",
    "unmasker(\"I'am  a korean famous boy group and have song called 'You Only Live'. My <mask> is a BTS\",\n",
    "top_k = 2)"
   ]
  },
  {
   "cell_type": "code",
   "execution_count": 26,
   "metadata": {},
   "outputs": [
    {
     "name": "stderr",
     "output_type": "stream",
     "text": [
      "Some weights of the model checkpoint at klue/bert-base were not used when initializing BertForMaskedLM: ['cls.seq_relationship.bias', 'cls.seq_relationship.weight']\n",
      "- This IS expected if you are initializing BertForMaskedLM from the checkpoint of a model trained on another task or with another architecture (e.g. initializing a BertForSequenceClassification model from a BertForPreTraining model).\n",
      "- This IS NOT expected if you are initializing BertForMaskedLM from the checkpoint of a model that you expect to be exactly identical (initializing a BertForSequenceClassification model from a BertForSequenceClassification model).\n"
     ]
    },
    {
     "data": {
      "text/plain": [
       "[{'score': 0.14065705239772797,\n",
       "  'token': 4564,\n",
       "  'token_str': '우승',\n",
       "  'sequence': '롯데 자이언츠는 2022년 우승 을 향해 도전한다. 20년간 하지못한 우승 이번에는 할 수 있을까?'},\n",
       " {'score': 0.05443330481648445,\n",
       "  'token': 1,\n",
       "  'token_str': '[UNK]',\n",
       "  'sequence': '롯데 자이언츠는 2022년 을 향해 도전한다. 20년간 하지못한 우승 이번에는 할 수 있을까?'}]"
      ]
     },
     "execution_count": 26,
     "metadata": {},
     "output_type": "execute_result"
    }
   ],
   "source": [
    "kor_unmasker = pipeline(\"fill-mask\", \"klue/bert-base\")\n",
    "kor_unmasker(\"롯데 자이언츠는 2022년 [MASK]을 향해 도전한다. 20년간 하지못한 우승 이번에는 할 수 있을까? \",\n",
    "    top_k = 2)\n"
   ]
  },
  {
   "attachments": {},
   "cell_type": "markdown",
   "metadata": {},
   "source": [
    "#### 5. Named Entity Recognition\n",
    "- default model : bert-large-cased-finetuned-conll03-english\n",
    "\n",
    "- grouped_entites : multiple word를 single word로 인식"
   ]
  },
  {
   "cell_type": "code",
   "execution_count": 7,
   "metadata": {},
   "outputs": [
    {
     "name": "stderr",
     "output_type": "stream",
     "text": [
      "No model was supplied, defaulted to dbmdz/bert-large-cased-finetuned-conll03-english and revision f2482bf (https://huggingface.co/dbmdz/bert-large-cased-finetuned-conll03-english).\n",
      "Using a pipeline without specifying a model name and revision in production is not recommended.\n"
     ]
    },
    {
     "data": {
      "text/plain": [
       "[{'entity_group': 'ORG',\n",
       "  'score': 0.9910667,\n",
       "  'word': 'BTS',\n",
       "  'start': 11,\n",
       "  'end': 14},\n",
       " {'entity_group': 'MISC',\n",
       "  'score': 0.6939592,\n",
       "  'word': 'You Only live',\n",
       "  'start': 27,\n",
       "  'end': 40},\n",
       " {'entity_group': 'LOC',\n",
       "  'score': 0.99817884,\n",
       "  'word': 'Busan',\n",
       "  'start': 56,\n",
       "  'end': 61}]"
      ]
     },
     "execution_count": 7,
     "metadata": {},
     "output_type": "execute_result"
    }
   ],
   "source": [
    "ner = pipeline(\"ner\", grouped_entities=True)\n",
    "ner(\"My name is BTS and I song 'You Only live' and I live in Busan\")"
   ]
  },
  {
   "attachments": {},
   "cell_type": "markdown",
   "metadata": {},
   "source": [
    "#### 6. Question Answering\n",
    "- default model : distilbert-base-cased-distilled-squad\n",
    "\n",
    "- input format : (question=\"질문\", context=\"본문\") "
   ]
  },
  {
   "cell_type": "code",
   "execution_count": 8,
   "metadata": {},
   "outputs": [
    {
     "name": "stderr",
     "output_type": "stream",
     "text": [
      "No model was supplied, defaulted to distilbert-base-cased-distilled-squad and revision 626af31 (https://huggingface.co/distilbert-base-cased-distilled-squad).\n",
      "Using a pipeline without specifying a model name and revision in production is not recommended.\n"
     ]
    },
    {
     "data": {
      "text/plain": [
       "{'score': 0.684985876083374, 'start': 7, 'end': 19, 'answer': 'Lotte Giants'}"
      ]
     },
     "execution_count": 8,
     "metadata": {},
     "output_type": "execute_result"
    }
   ],
   "source": [
    "QA = pipeline(\"question-answering\")\n",
    "QA(question=\"What is my favorite sports team\",\n",
    "    context=\"I love Lotte Giants and hate KIA tigers\")"
   ]
  },
  {
   "cell_type": "code",
   "execution_count": 28,
   "metadata": {},
   "outputs": [
    {
     "data": {
      "text/plain": [
       "{'score': 0.5984599590301514, 'start': 11, 'end': 14, 'answer': '준우승'}"
      ]
     },
     "execution_count": 28,
     "metadata": {},
     "output_type": "execute_result"
    }
   ],
   "source": [
    "kor_QA = pipeline(\"question-answering\",\"ainize/klue-bert-base-mrc\")\n",
    "kor_QA(question=\"롯데 자이언츠의 2023년 결과는?\",\n",
    "    context=\"2023년 ssg는 준우승, 롯데 자이언츠는 우승을 했다.\")"
   ]
  },
  {
   "attachments": {},
   "cell_type": "markdown",
   "metadata": {},
   "source": [
    "#### 7. Summarization\n",
    "- default model : shleifer/distilbart-cnn-12-6"
   ]
  },
  {
   "cell_type": "code",
   "execution_count": 9,
   "metadata": {},
   "outputs": [
    {
     "name": "stderr",
     "output_type": "stream",
     "text": [
      "No model was supplied, defaulted to sshleifer/distilbart-cnn-12-6 and revision a4f8f3e (https://huggingface.co/sshleifer/distilbart-cnn-12-6).\n",
      "Using a pipeline without specifying a model name and revision in production is not recommended.\n"
     ]
    },
    {
     "data": {
      "text/plain": [
       "[{'summary_text': ' America has changed dramatically during recent years . The number of engineering graduates in the U.S. has declined in traditional engineering disciplines such as mechanical, civil, electrical, chemical, and aeronautical engineering . Rapidly developing economies such as China and India, as well as other industrial countries in Europe and Asia, continue to encourage and advance the teaching of engineering .'}]"
      ]
     },
     "execution_count": 9,
     "metadata": {},
     "output_type": "execute_result"
    }
   ],
   "source": [
    "summarizer = pipeline(\"summarization\")\n",
    "\n",
    "summarizer(\n",
    "\"\"\"\n",
    " America has changed dramatically during recent years. Not only has the number of \n",
    "    graduates in traditional engineering disciplines such as mechanical, civil, \n",
    "    electrical, chemical, and aeronautical engineering declined, but in most of \n",
    "    the premier American universities engineering curricula now concentrate on \n",
    "    and encourage largely the study of engineering science. As a result, there \n",
    "    are declining offerings in engineering subjects dealing with infrastructure, \n",
    "    the environment, and related issues, and greater concentration on high \n",
    "    technology subjects, largely supporting increasingly complex scientific \n",
    "    developments. While the latter is important, it should not be at the expense \n",
    "    of more traditional engineering.\n",
    "\n",
    "    Rapidly developing economies such as China and India, as well as other \n",
    "    industrial countries in Europe and Asia, continue to encourage and advance \n",
    "    the teaching of engineering. Both China and India, respectively, graduate \n",
    "    six and eight times as many traditional engineers as does the United States. \n",
    "    Other industrial countries at minimum maintain their output, while America \n",
    "    suffers an increasingly serious decline in the number of engineering graduates \n",
    "    and a lack of well-educated engineers.\n",
    "\"\"\"\n",
    ")"
   ]
  },
  {
   "cell_type": "code",
   "execution_count": 29,
   "metadata": {},
   "outputs": [
    {
     "data": {
      "application/vnd.jupyter.widget-view+json": {
       "model_id": "7d6bc07d1bb5416f996a62400eb63193",
       "version_major": 2,
       "version_minor": 0
      },
      "text/plain": [
       "Downloading:   0%|          | 0.00/1.45k [00:00<?, ?B/s]"
      ]
     },
     "metadata": {},
     "output_type": "display_data"
    },
    {
     "name": "stderr",
     "output_type": "stream",
     "text": [
      "You passed along `num_labels=3` with an incompatible id to label map: {'0': 'NEGATIVE', '1': 'POSITIVE'}. The number of labels wil be overwritten to 2.\n",
      "You passed along `num_labels=3` with an incompatible id to label map: {'0': 'NEGATIVE', '1': 'POSITIVE'}. The number of labels wil be overwritten to 2.\n"
     ]
    },
    {
     "data": {
      "application/vnd.jupyter.widget-view+json": {
       "model_id": "961b3eedaba846679de5af9ee04492ac",
       "version_major": 2,
       "version_minor": 0
      },
      "text/plain": [
       "Downloading:   0%|          | 0.00/496M [00:00<?, ?B/s]"
      ]
     },
     "metadata": {},
     "output_type": "display_data"
    },
    {
     "data": {
      "application/vnd.jupyter.widget-view+json": {
       "model_id": "a18c162ddc6247f1b752957aaabc233a",
       "version_major": 2,
       "version_minor": 0
      },
      "text/plain": [
       "Downloading:   0%|          | 0.00/302 [00:00<?, ?B/s]"
      ]
     },
     "metadata": {},
     "output_type": "display_data"
    },
    {
     "data": {
      "application/vnd.jupyter.widget-view+json": {
       "model_id": "f9bd5106b95f49229b7bc93b332fd2b8",
       "version_major": 2,
       "version_minor": 0
      },
      "text/plain": [
       "Downloading:   0%|          | 0.00/682k [00:00<?, ?B/s]"
      ]
     },
     "metadata": {},
     "output_type": "display_data"
    },
    {
     "data": {
      "application/vnd.jupyter.widget-view+json": {
       "model_id": "698417693ac74e20a0f772416ce8c993",
       "version_major": 2,
       "version_minor": 0
      },
      "text/plain": [
       "Downloading:   0%|          | 0.00/239 [00:00<?, ?B/s]"
      ]
     },
     "metadata": {},
     "output_type": "display_data"
    },
    {
     "data": {
      "text/plain": [
       "[{'summary_text': '수익형 부동산 연구개발기업 상가정보연구소는 한국감정원 통계를 분석한 결과 전국 중대형 상가 순영업소득이 1분기 m2당 3만4200원에서 3분기 2만5800원으로 감소했다고 17일 밝혔는데 국내 전반적인 경기침체로 건물주의 수익도 전국적인 감소세를 보이고 있는 것으로 나타났고 전국 중대형 상가 순영업소득이 3분기 m2당 3만4200원에서 3분기 2만5800원으로 감소했다고 밝혔다.'}]"
      ]
     },
     "execution_count": 29,
     "metadata": {},
     "output_type": "execute_result"
    }
   ],
   "source": [
    "kor_summarizer = pipeline(\"summarization\",\"ainize/kobart-news\")\n",
    "\n",
    "kor_summarizer(\n",
    "\"\"\"\n",
    "국내 전반적인 경기침체로 상가 건물주의 수익도 전국적인 감소세를 보이고 있는 것으로 나타났다.수익형 부동산 연구개발기업 상가정보연구소는 한국감정원 통계를 분석한 결과 전국 중대형 상가 순영업소득(부동산에서 발생하는 임대수입, 기타수입에서 제반 경비를 공제한 순소득)이 1분기 ㎡당 3만4200원에서 3분기 2만5800원으로 감소했다고 17일 밝혔다. 수도권, 세종시, 지방광역시에서 순영업소득이 가장 많이 감소한 지역은 3분기 1만3100원을 기록한 울산으로, 1분기 1만9100원 대비 31.4% 감소했다. 이어 대구(-27.7%), 서울(-26.9%), 광주(-24.9%), 부산(-23.5%), 세종(-23.4%), 대전(-21%), 경기(-19.2%), 인천(-18.5%) 순으로 감소했다. 지방 도시의 경우도 비슷했다. 경남의 3분기 순영업소득은 1만2800원으로 1분기 1만7400원 대비 26.4% 감소했으며 제주(-25.1%), 경북(-24.1%), 충남(-20.9%), 강원(-20.9%), 전남(-20.1%), 전북(-17%), 충북(-15.3%) 등도 감소세를 보였다. 조현택 상가정보연구소 연구원은 \"올해 내수 경기의 침체된 분위기가 유지되며 상가, 오피스 등을 비롯한 수익형 부동산 시장의 분위기도 경직된 모습을 보였고 오피스텔, 지식산업센터 등의 수익형 부동산 공급도 증가해 공실의 위험도 늘었다\"며 \"실제 올 3분기 전국 중대형 상가 공실률은 11.5%를 기록하며 1분기 11.3% 대비 0.2% 포인트 증가했다\"고 말했다. 그는 \"최근 소셜커머스(SNS를 통한 전자상거래),  음식 배달 중개 애플리케이션, 중고 물품 거래 애플리케이션 등의 사용 증가로 오프라인 매장에 영향을 미쳤다\"며 \"향후 지역, 콘텐츠에 따른 상권 양극화 현상은 심화될 것으로 보인다\"고 덧붙였다.\n",
    "\"\"\"\n",
    ")"
   ]
  },
  {
   "attachments": {},
   "cell_type": "markdown",
   "metadata": {},
   "source": [
    "#### 8.Translation\n",
    "- ValueError: This tokenizer cannot be instantiated. Please make sure you have `sentencepiece` installed in order to use this tokenizer. 로 작동이 안됨 문제 해결 중\n",
    "\n",
    "- Model을 따로 지정을 해주어야 함\n",
    "\n",
    "- ex) pipeline(\"translation_fr_to_en\")"
   ]
  },
  {
   "cell_type": "code",
   "execution_count": 1,
   "metadata": {},
   "outputs": [],
   "source": [
    "#translator = pipeline(\"translation_fr_to_en\")\n",
    "#translator(\"Ce cours est produit par Hugging Face.\")"
   ]
  }
 ],
 "metadata": {
  "kernelspec": {
   "display_name": "Python 3",
   "language": "python",
   "name": "python3"
  },
  "language_info": {
   "codemirror_mode": {
    "name": "ipython",
    "version": 3
   },
   "file_extension": ".py",
   "mimetype": "text/x-python",
   "name": "python",
   "nbconvert_exporter": "python",
   "pygments_lexer": "ipython3",
   "version": "3.10.7 (tags/v3.10.7:6cc6b13, Sep  5 2022, 14:08:36) [MSC v.1933 64 bit (AMD64)]"
  },
  "orig_nbformat": 4,
  "vscode": {
   "interpreter": {
    "hash": "dc8fef993c398d68c6278bc760114fa0a752364ed2dc70eb55c44011e1c2ffe7"
   }
  }
 },
 "nbformat": 4,
 "nbformat_minor": 2
}
